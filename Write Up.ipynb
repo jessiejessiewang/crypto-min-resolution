{
 "cells": [
  {
   "cell_type": "code",
   "execution_count": 1,
   "id": "01f0000c",
   "metadata": {},
   "outputs": [],
   "source": [
    "import json\n",
    "import logging\n",
    "import sys\n",
    "import pandas as pd\n",
    "import numpy as np\n",
    "import cvxportfolio as cp\n",
    "from cmr.universe import build_universe\n",
    "from cmr.data_loader import load_features, load_market_data, load_ret\n",
    "from cmr.returns import TaReturnsForecast\n",
    "from cmr.strategy import CryptoStatArb\n",
    "from cmr.risk import ReturnsCovRiskModel\n",
    "\n",
    "import matplotlib.pyplot as plt\n",
    "%matplotlib inline"
   ]
  },
  {
   "cell_type": "markdown",
   "id": "6119e477",
   "metadata": {},
   "source": [
    "## Define scope\n",
    "* time interval : 2020 Jan to 2022 Jan <br>\n",
    "* crypto symbol: average daily volume 200k USD"
   ]
  },
  {
   "cell_type": "code",
   "execution_count": 4,
   "id": "ca7afd8c",
   "metadata": {},
   "outputs": [
    {
     "name": "stdout",
     "output_type": "stream",
     "text": [
      "{'portfolio_id': 'JW_CRYPTO', 'adv_limit': 200000.0, 'symbol_pattern': '*usd', 'lambda_risk': 1.0, 'half_spread': 0.005, 'borrow_costs': 0, 'opt_kwargs': {'leverage_limit': 1, 'max_weights': 0.1, 'min_weights': -0.1}, 'resample_rule': '1H'}\n",
      "['adausd', 'atousd', 'bsvusd', 'btcusd', 'bttusd', 'dotusd', 'dshusd', 'eosusd', 'etcusd', 'ethusd', 'filusd', 'ftmusd', 'iotusd', 'ltcusd', 'neousd', 'omgusd', 'solusd', 'trxusd', 'udcusd', 'uniusd', 'uosusd', 'ustusd', 'xlmusd', 'xmrusd', 'xrpusd', 'xtzusd', 'yfiusd', 'zecusd']\n"
     ]
    }
   ],
   "source": [
    "start = pd.Timestamp(2020, 1, 1)\n",
    "end = pd.Timestamp(2022, 1, 31)\n",
    "cfg = json.load(open(\"cfg/JW_CRYPTO.json\"))\n",
    "symbols = sorted(build_universe(cfg[\"symbol_pattern\"], start, end, adv_limit=cfg[\"adv_limit\"]))\n",
    "print(cfg)\n",
    "print(symbols)"
   ]
  },
  {
   "cell_type": "markdown",
   "id": "9d7592cf",
   "metadata": {},
   "source": [
    "## Features"
   ]
  },
  {
   "cell_type": "markdown",
   "id": "586b6c56",
   "metadata": {},
   "source": [
    "<i> Technical Analysis Module </i>: uses financial time series datasets (open, close, high, low, volume), for feature engineering. <br>\n",
    "<i> https://technical-analysis-library-in-python.readthedocs.io/en/latest/ </i><br>\n",
    "* Momentum Indicators\n",
    "* Volume Indicators\n",
    "* Volatility Indicators\n",
    "* Trend Indicators\n",
    "* Others Indicators"
   ]
  },
  {
   "cell_type": "code",
   "execution_count": 5,
   "id": "4406933c",
   "metadata": {},
   "outputs": [
    {
     "ename": "PicklingError",
     "evalue": "Could not pickle the task to send it to the workers.",
     "output_type": "error",
     "traceback": [
      "\u001b[1;31m---------------------------------------------------------------------------\u001b[0m",
      "\u001b[1;31m_RemoteTraceback\u001b[0m                          Traceback (most recent call last)",
      "\u001b[1;31m_RemoteTraceback\u001b[0m: \n\"\"\"\nTraceback (most recent call last):\n  File \"E:\\Anaconda3\\lib\\site-packages\\joblib\\externals\\loky\\backend\\queues.py\", line 153, in _feed\n    obj_ = dumps(obj, reducers=reducers)\n  File \"E:\\Anaconda3\\lib\\site-packages\\joblib\\externals\\loky\\backend\\reduction.py\", line 271, in dumps\n    dump(obj, buf, reducers=reducers, protocol=protocol)\n  File \"E:\\Anaconda3\\lib\\site-packages\\joblib\\externals\\loky\\backend\\reduction.py\", line 264, in dump\n    _LokyPickler(file, reducers=reducers, protocol=protocol).dump(obj)\n  File \"E:\\Anaconda3\\lib\\site-packages\\joblib\\externals\\cloudpickle\\cloudpickle_fast.py\", line 602, in dump\n    return Pickler.dump(self, obj)\n  File \"E:\\Anaconda3\\lib\\pickle.py\", line 437, in dump\n    self.save(obj)\n  File \"E:\\Anaconda3\\lib\\pickle.py\", line 549, in save\n    self.save_reduce(obj=obj, *rv)\n  File \"E:\\Anaconda3\\lib\\pickle.py\", line 662, in save_reduce\n    save(state)\n  File \"E:\\Anaconda3\\lib\\pickle.py\", line 504, in save\n    f(self, obj) # Call unbound method with explicit self\n  File \"E:\\Anaconda3\\lib\\site-packages\\dill\\_dill.py\", line 990, in save_module_dict\n    StockPickler.save_dict(pickler, obj)\n  File \"E:\\Anaconda3\\lib\\pickle.py\", line 859, in save_dict\n    self._batch_setitems(obj.items())\n  File \"E:\\Anaconda3\\lib\\pickle.py\", line 885, in _batch_setitems\n    save(v)\n  File \"E:\\Anaconda3\\lib\\pickle.py\", line 549, in save\n    self.save_reduce(obj=obj, *rv)\n  File \"E:\\Anaconda3\\lib\\pickle.py\", line 662, in save_reduce\n    save(state)\n  File \"E:\\Anaconda3\\lib\\pickle.py\", line 504, in save\n    f(self, obj) # Call unbound method with explicit self\n  File \"E:\\Anaconda3\\lib\\site-packages\\dill\\_dill.py\", line 990, in save_module_dict\n    StockPickler.save_dict(pickler, obj)\n  File \"E:\\Anaconda3\\lib\\pickle.py\", line 859, in save_dict\n    self._batch_setitems(obj.items())\n  File \"E:\\Anaconda3\\lib\\pickle.py\", line 890, in _batch_setitems\n    save(v)\n  File \"E:\\Anaconda3\\lib\\pickle.py\", line 549, in save\n    self.save_reduce(obj=obj, *rv)\n  File \"E:\\Anaconda3\\lib\\pickle.py\", line 638, in save_reduce\n    save(args)\n  File \"E:\\Anaconda3\\lib\\pickle.py\", line 504, in save\n    f(self, obj) # Call unbound method with explicit self\n  File \"E:\\Anaconda3\\lib\\pickle.py\", line 789, in save_tuple\n    save(element)\n  File \"E:\\Anaconda3\\lib\\pickle.py\", line 504, in save\n    f(self, obj) # Call unbound method with explicit self\n  File \"E:\\Anaconda3\\lib\\pickle.py\", line 819, in save_list\n    self._batch_appends(obj)\n  File \"E:\\Anaconda3\\lib\\pickle.py\", line 846, in _batch_appends\n    save(tmp[0])\n  File \"E:\\Anaconda3\\lib\\pickle.py\", line 504, in save\n    f(self, obj) # Call unbound method with explicit self\n  File \"E:\\Anaconda3\\lib\\pickle.py\", line 774, in save_tuple\n    save(element)\n  File \"E:\\Anaconda3\\lib\\pickle.py\", line 504, in save\n    f(self, obj) # Call unbound method with explicit self\n  File \"E:\\Anaconda3\\lib\\site-packages\\joblib\\externals\\cloudpickle\\cloudpickle_fast.py\", line 784, in save_function\n    *self._dynamic_function_reduce(obj), obj=obj\n  File \"E:\\Anaconda3\\lib\\site-packages\\joblib\\externals\\cloudpickle\\cloudpickle_fast.py\", line 721, in _save_reduce_pickle5\n    dictitems=dictitems, obj=obj\n  File \"E:\\Anaconda3\\lib\\pickle.py\", line 638, in save_reduce\n    save(args)\n  File \"E:\\Anaconda3\\lib\\pickle.py\", line 504, in save\n    f(self, obj) # Call unbound method with explicit self\n  File \"E:\\Anaconda3\\lib\\pickle.py\", line 789, in save_tuple\n    save(element)\n  File \"E:\\Anaconda3\\lib\\pickle.py\", line 504, in save\n    f(self, obj) # Call unbound method with explicit self\n  File \"E:\\Anaconda3\\lib\\pickle.py\", line 774, in save_tuple\n    save(element)\n  File \"E:\\Anaconda3\\lib\\pickle.py\", line 504, in save\n    f(self, obj) # Call unbound method with explicit self\n  File \"E:\\Anaconda3\\lib\\site-packages\\dill\\_dill.py\", line 1226, in save_cell\n    f = obj.cell_contents\nValueError: Cell is empty\n\"\"\"",
      "\nThe above exception was the direct cause of the following exception:\n",
      "\u001b[1;31mPicklingError\u001b[0m                             Traceback (most recent call last)",
      "\u001b[1;32mC:\\Users\\JESSIE~1\\AppData\\Local\\Temp/ipykernel_22496/358022940.py\u001b[0m in \u001b[0;36m<module>\u001b[1;34m\u001b[0m\n\u001b[1;32m----> 1\u001b[1;33m \u001b[0mfeat\u001b[0m \u001b[1;33m=\u001b[0m \u001b[0mload_features\u001b[0m\u001b[1;33m(\u001b[0m\u001b[0msymbols\u001b[0m\u001b[1;33m,\u001b[0m \u001b[0mstart\u001b[0m\u001b[1;33m,\u001b[0m \u001b[0mend\u001b[0m\u001b[1;33m)\u001b[0m\u001b[1;33m\u001b[0m\u001b[1;33m\u001b[0m\u001b[0m\n\u001b[0m",
      "\u001b[1;32m~\\PycharmProjects\\crypto-min-resolution\\cmr\\data_loader.py\u001b[0m in \u001b[0;36mload_features\u001b[1;34m(symbols, start, end, resample_rule)\u001b[0m\n\u001b[0;32m     99\u001b[0m     \u001b[1;31m# Load data\u001b[0m\u001b[1;33m\u001b[0m\u001b[1;33m\u001b[0m\u001b[1;33m\u001b[0m\u001b[0m\n\u001b[0;32m    100\u001b[0m     df = Parallel(n_jobs=8)(delayed(\n\u001b[1;32m--> 101\u001b[1;33m         lambda s: load_data(s, start - relativedelta(months=6), end, resample_rule))(s) for s in symbols)\n\u001b[0m\u001b[0;32m    102\u001b[0m     \u001b[0mdf\u001b[0m \u001b[1;33m=\u001b[0m \u001b[0mpd\u001b[0m\u001b[1;33m.\u001b[0m\u001b[0mconcat\u001b[0m\u001b[1;33m(\u001b[0m\u001b[0mdf\u001b[0m\u001b[1;33m)\u001b[0m\u001b[1;33m.\u001b[0m\u001b[0mset_index\u001b[0m\u001b[1;33m(\u001b[0m\u001b[1;33m[\u001b[0m\u001b[1;34m'time'\u001b[0m\u001b[1;33m,\u001b[0m \u001b[1;34m'symbol'\u001b[0m\u001b[1;33m]\u001b[0m\u001b[1;33m)\u001b[0m\u001b[1;33m\u001b[0m\u001b[1;33m\u001b[0m\u001b[0m\n\u001b[0;32m    103\u001b[0m \u001b[1;33m\u001b[0m\u001b[0m\n",
      "\u001b[1;32mE:\\Anaconda3\\lib\\site-packages\\joblib\\parallel.py\u001b[0m in \u001b[0;36m__call__\u001b[1;34m(self, iterable)\u001b[0m\n\u001b[0;32m   1054\u001b[0m \u001b[1;33m\u001b[0m\u001b[0m\n\u001b[0;32m   1055\u001b[0m             \u001b[1;32mwith\u001b[0m \u001b[0mself\u001b[0m\u001b[1;33m.\u001b[0m\u001b[0m_backend\u001b[0m\u001b[1;33m.\u001b[0m\u001b[0mretrieval_context\u001b[0m\u001b[1;33m(\u001b[0m\u001b[1;33m)\u001b[0m\u001b[1;33m:\u001b[0m\u001b[1;33m\u001b[0m\u001b[1;33m\u001b[0m\u001b[0m\n\u001b[1;32m-> 1056\u001b[1;33m                 \u001b[0mself\u001b[0m\u001b[1;33m.\u001b[0m\u001b[0mretrieve\u001b[0m\u001b[1;33m(\u001b[0m\u001b[1;33m)\u001b[0m\u001b[1;33m\u001b[0m\u001b[1;33m\u001b[0m\u001b[0m\n\u001b[0m\u001b[0;32m   1057\u001b[0m             \u001b[1;31m# Make sure that we get a last message telling us we are done\u001b[0m\u001b[1;33m\u001b[0m\u001b[1;33m\u001b[0m\u001b[1;33m\u001b[0m\u001b[0m\n\u001b[0;32m   1058\u001b[0m             \u001b[0melapsed_time\u001b[0m \u001b[1;33m=\u001b[0m \u001b[0mtime\u001b[0m\u001b[1;33m.\u001b[0m\u001b[0mtime\u001b[0m\u001b[1;33m(\u001b[0m\u001b[1;33m)\u001b[0m \u001b[1;33m-\u001b[0m \u001b[0mself\u001b[0m\u001b[1;33m.\u001b[0m\u001b[0m_start_time\u001b[0m\u001b[1;33m\u001b[0m\u001b[1;33m\u001b[0m\u001b[0m\n",
      "\u001b[1;32mE:\\Anaconda3\\lib\\site-packages\\joblib\\parallel.py\u001b[0m in \u001b[0;36mretrieve\u001b[1;34m(self)\u001b[0m\n\u001b[0;32m    933\u001b[0m             \u001b[1;32mtry\u001b[0m\u001b[1;33m:\u001b[0m\u001b[1;33m\u001b[0m\u001b[1;33m\u001b[0m\u001b[0m\n\u001b[0;32m    934\u001b[0m                 \u001b[1;32mif\u001b[0m \u001b[0mgetattr\u001b[0m\u001b[1;33m(\u001b[0m\u001b[0mself\u001b[0m\u001b[1;33m.\u001b[0m\u001b[0m_backend\u001b[0m\u001b[1;33m,\u001b[0m \u001b[1;34m'supports_timeout'\u001b[0m\u001b[1;33m,\u001b[0m \u001b[1;32mFalse\u001b[0m\u001b[1;33m)\u001b[0m\u001b[1;33m:\u001b[0m\u001b[1;33m\u001b[0m\u001b[1;33m\u001b[0m\u001b[0m\n\u001b[1;32m--> 935\u001b[1;33m                     \u001b[0mself\u001b[0m\u001b[1;33m.\u001b[0m\u001b[0m_output\u001b[0m\u001b[1;33m.\u001b[0m\u001b[0mextend\u001b[0m\u001b[1;33m(\u001b[0m\u001b[0mjob\u001b[0m\u001b[1;33m.\u001b[0m\u001b[0mget\u001b[0m\u001b[1;33m(\u001b[0m\u001b[0mtimeout\u001b[0m\u001b[1;33m=\u001b[0m\u001b[0mself\u001b[0m\u001b[1;33m.\u001b[0m\u001b[0mtimeout\u001b[0m\u001b[1;33m)\u001b[0m\u001b[1;33m)\u001b[0m\u001b[1;33m\u001b[0m\u001b[1;33m\u001b[0m\u001b[0m\n\u001b[0m\u001b[0;32m    936\u001b[0m                 \u001b[1;32melse\u001b[0m\u001b[1;33m:\u001b[0m\u001b[1;33m\u001b[0m\u001b[1;33m\u001b[0m\u001b[0m\n\u001b[0;32m    937\u001b[0m                     \u001b[0mself\u001b[0m\u001b[1;33m.\u001b[0m\u001b[0m_output\u001b[0m\u001b[1;33m.\u001b[0m\u001b[0mextend\u001b[0m\u001b[1;33m(\u001b[0m\u001b[0mjob\u001b[0m\u001b[1;33m.\u001b[0m\u001b[0mget\u001b[0m\u001b[1;33m(\u001b[0m\u001b[1;33m)\u001b[0m\u001b[1;33m)\u001b[0m\u001b[1;33m\u001b[0m\u001b[1;33m\u001b[0m\u001b[0m\n",
      "\u001b[1;32mE:\\Anaconda3\\lib\\site-packages\\joblib\\_parallel_backends.py\u001b[0m in \u001b[0;36mwrap_future_result\u001b[1;34m(future, timeout)\u001b[0m\n\u001b[0;32m    540\u001b[0m         AsyncResults.get from multiprocessing.\"\"\"\n\u001b[0;32m    541\u001b[0m         \u001b[1;32mtry\u001b[0m\u001b[1;33m:\u001b[0m\u001b[1;33m\u001b[0m\u001b[1;33m\u001b[0m\u001b[0m\n\u001b[1;32m--> 542\u001b[1;33m             \u001b[1;32mreturn\u001b[0m \u001b[0mfuture\u001b[0m\u001b[1;33m.\u001b[0m\u001b[0mresult\u001b[0m\u001b[1;33m(\u001b[0m\u001b[0mtimeout\u001b[0m\u001b[1;33m=\u001b[0m\u001b[0mtimeout\u001b[0m\u001b[1;33m)\u001b[0m\u001b[1;33m\u001b[0m\u001b[1;33m\u001b[0m\u001b[0m\n\u001b[0m\u001b[0;32m    543\u001b[0m         \u001b[1;32mexcept\u001b[0m \u001b[0mCfTimeoutError\u001b[0m \u001b[1;32mas\u001b[0m \u001b[0me\u001b[0m\u001b[1;33m:\u001b[0m\u001b[1;33m\u001b[0m\u001b[1;33m\u001b[0m\u001b[0m\n\u001b[0;32m    544\u001b[0m             \u001b[1;32mraise\u001b[0m \u001b[0mTimeoutError\u001b[0m \u001b[1;32mfrom\u001b[0m \u001b[0me\u001b[0m\u001b[1;33m\u001b[0m\u001b[1;33m\u001b[0m\u001b[0m\n",
      "\u001b[1;32mE:\\Anaconda3\\lib\\concurrent\\futures\\_base.py\u001b[0m in \u001b[0;36mresult\u001b[1;34m(self, timeout)\u001b[0m\n\u001b[0;32m    433\u001b[0m                 \u001b[1;32mraise\u001b[0m \u001b[0mCancelledError\u001b[0m\u001b[1;33m(\u001b[0m\u001b[1;33m)\u001b[0m\u001b[1;33m\u001b[0m\u001b[1;33m\u001b[0m\u001b[0m\n\u001b[0;32m    434\u001b[0m             \u001b[1;32melif\u001b[0m \u001b[0mself\u001b[0m\u001b[1;33m.\u001b[0m\u001b[0m_state\u001b[0m \u001b[1;33m==\u001b[0m \u001b[0mFINISHED\u001b[0m\u001b[1;33m:\u001b[0m\u001b[1;33m\u001b[0m\u001b[1;33m\u001b[0m\u001b[0m\n\u001b[1;32m--> 435\u001b[1;33m                 \u001b[1;32mreturn\u001b[0m \u001b[0mself\u001b[0m\u001b[1;33m.\u001b[0m\u001b[0m__get_result\u001b[0m\u001b[1;33m(\u001b[0m\u001b[1;33m)\u001b[0m\u001b[1;33m\u001b[0m\u001b[1;33m\u001b[0m\u001b[0m\n\u001b[0m\u001b[0;32m    436\u001b[0m             \u001b[1;32melse\u001b[0m\u001b[1;33m:\u001b[0m\u001b[1;33m\u001b[0m\u001b[1;33m\u001b[0m\u001b[0m\n\u001b[0;32m    437\u001b[0m                 \u001b[1;32mraise\u001b[0m \u001b[0mTimeoutError\u001b[0m\u001b[1;33m(\u001b[0m\u001b[1;33m)\u001b[0m\u001b[1;33m\u001b[0m\u001b[1;33m\u001b[0m\u001b[0m\n",
      "\u001b[1;32mE:\\Anaconda3\\lib\\concurrent\\futures\\_base.py\u001b[0m in \u001b[0;36m__get_result\u001b[1;34m(self)\u001b[0m\n\u001b[0;32m    382\u001b[0m     \u001b[1;32mdef\u001b[0m \u001b[0m__get_result\u001b[0m\u001b[1;33m(\u001b[0m\u001b[0mself\u001b[0m\u001b[1;33m)\u001b[0m\u001b[1;33m:\u001b[0m\u001b[1;33m\u001b[0m\u001b[1;33m\u001b[0m\u001b[0m\n\u001b[0;32m    383\u001b[0m         \u001b[1;32mif\u001b[0m \u001b[0mself\u001b[0m\u001b[1;33m.\u001b[0m\u001b[0m_exception\u001b[0m\u001b[1;33m:\u001b[0m\u001b[1;33m\u001b[0m\u001b[1;33m\u001b[0m\u001b[0m\n\u001b[1;32m--> 384\u001b[1;33m             \u001b[1;32mraise\u001b[0m \u001b[0mself\u001b[0m\u001b[1;33m.\u001b[0m\u001b[0m_exception\u001b[0m\u001b[1;33m\u001b[0m\u001b[1;33m\u001b[0m\u001b[0m\n\u001b[0m\u001b[0;32m    385\u001b[0m         \u001b[1;32melse\u001b[0m\u001b[1;33m:\u001b[0m\u001b[1;33m\u001b[0m\u001b[1;33m\u001b[0m\u001b[0m\n\u001b[0;32m    386\u001b[0m             \u001b[1;32mreturn\u001b[0m \u001b[0mself\u001b[0m\u001b[1;33m.\u001b[0m\u001b[0m_result\u001b[0m\u001b[1;33m\u001b[0m\u001b[1;33m\u001b[0m\u001b[0m\n",
      "\u001b[1;31mPicklingError\u001b[0m: Could not pickle the task to send it to the workers."
     ]
    }
   ],
   "source": [
    "feat = load_features(symbols, start, end)"
   ]
  },
  {
   "cell_type": "markdown",
   "id": "fd63b812",
   "metadata": {},
   "source": [
    "## Data preprocessing"
   ]
  },
  {
   "cell_type": "markdown",
   "id": "5a07c8df",
   "metadata": {},
   "source": [
    "* Train & Test (& Validation data) split\n",
    "* Feature standardization\n",
    "* PCA for dimensionality reduction\n",
    "* Symbol - one hot encoder\n",
    "* Format to time series generators"
   ]
  },
  {
   "cell_type": "code",
   "execution_count": null,
   "id": "b9cccd01",
   "metadata": {},
   "outputs": [],
   "source": []
  },
  {
   "cell_type": "markdown",
   "id": "5f682dcb",
   "metadata": {},
   "source": [
    "## Prediction model"
   ]
  },
  {
   "cell_type": "markdown",
   "id": "8f09c882",
   "metadata": {},
   "source": [
    "### Model selection\n",
    "Literature on crypto currencies, mostly leveraging LSTM:\n",
    "* Bitcoin Transaction Strategy Construction Based on Deep Reinforcement Learning\n",
    "<i> https://arxiv.org/abs/2109.14789 </i>\n",
    "* On Technical Trading and Social Media Indicators in Cryptocurrencies' Price Classification Through Deep Learning\n",
    "<i> https://arxiv.org/abs/2102.08189 </i>"
   ]
  },
  {
   "cell_type": "markdown",
   "id": "5d477734",
   "metadata": {},
   "source": [
    "### Hyperparameter tuning\n",
    "\n",
    "| Item |  |  |  |\n",
    "| --- | --- | --- | --- |\n",
    "| Look Back Hours| 3 | 24 | 72 |\n",
    "| Batch Size | 32 | 64 | 128 |\n",
    "| Loss | MSE | MAE | |\n",
    "| Hidden Layers | 1 | 2 | |\n",
    "| Hidden Units | 32 | 64 | |\n",
    "| Hidden Activation | tanh | relu | |\n",
    "| Output Activation | tanh | linear | |\n",
    "\n",
    "\n",
    "Adam Optimization : dynamically adjust the learning rate of each parameter. <br>\n",
    "Train / Test / Validation split. <br>\n",
    "Drop out rate 0.2 <br>\n",
    "Early stop with patience 2 <r>\n",
    "\n"
   ]
  },
  {
   "cell_type": "code",
   "execution_count": null,
   "id": "411118b3",
   "metadata": {},
   "outputs": [],
   "source": []
  },
  {
   "cell_type": "markdown",
   "id": "3651b842",
   "metadata": {},
   "source": [
    "##  Portfolio optimization and simulation"
   ]
  },
  {
   "cell_type": "markdown",
   "id": "c2476891",
   "metadata": {},
   "source": [
    "<i> cvxportfolio module </i> : portfolio optimization and simulation, based on the paper Multi-Period Trading via Convex Optimization.\n",
    "<i> https://github.com/cvxgrp/cvxportfolio </i> <br>\n",
    "<i> https://web.stanford.edu/~boyd/papers/cvx_portfolio.html </i> <br>"
   ]
  },
  {
   "attachments": {},
   "cell_type": "markdown",
   "id": "281ab25f",
   "metadata": {},
   "source": [
    "### Optimizer\n",
    "* Single forecast period optimization, mean-variance portfolio optimization\n",
    "* Costs : risk model, transaction cost model ( and carry cost model)\n",
    "* Starts with 100k cash holding, hourly rebalance\n",
    "\n",
    "### Constraints\n",
    "* Dollar neutral\n",
    "* Leverage limit 1\n",
    "* Maximum holding weight 0.1\n",
    "* Minimum holding weight -0.1\n",
    "\n",
    "### Risk model\n",
    "* Standard deviation risk model\n"
   ]
  },
  {
   "attachments": {
    "workflow.JPG": {
     "image/jpeg": "[encoded data removed]"
    }
   },
   "cell_type": "markdown",
   "id": "3c1b8cb3",
   "metadata": {},
   "source": [
    "![workflow.JPG](attachment:workflow.JPG)"
   ]
  },
  {
   "cell_type": "code",
   "execution_count": null,
   "id": "9e8c3f77",
   "metadata": {},
   "outputs": [],
   "source": [
    "# build costs\n",
    "risk_model = ReturnsCovRiskModel(return_forecast.returns.columns[:-1], start, end).get_value()\n",
    "tcost_model = cp.TcostModel(half_spread=0.0025)  # different by market, or even more complex by ticker\n",
    "# bcost_model = cp.HcostModel(borrow_costs=borrow_costs / 250)  # borrow costs by ticker can be read from broker\n",
    "costs = [10 * cp.FullSigma(risk_model), ]  # fit into cp format\n",
    "\n",
    "# build strategy\n",
    "optimizer = CryptoStatArb(return_forecast, costs, **cfg['opt_kwargs'])\n",
    "\n",
    "# back-test\n",
    "returns = load_ret(return_forecast.returns.columns[:-1], start, end).fillna(0)\n",
    "market_sim = cp.MarketSimulator(returns, [], cash_key='cash')\n",
    "initial_portfolio = pd.Series(index=returns.columns, data=0)\n",
    "initial_portfolio.loc['cash'] = 1e5\n",
    "result = market_sim.run_backtest(initial_portfolio, signals.index[0], signals.index[-1], policy=optimizer)\n",
    "\n",
    "# performance analytics\n",
    "result.summary()"
   ]
  },
  {
   "cell_type": "code",
   "execution_count": null,
   "id": "218267fb",
   "metadata": {},
   "outputs": [],
   "source": []
  }
 ],
 "metadata": {
  "kernelspec": {
   "display_name": "Python 3 (ipykernel)",
   "language": "python",
   "name": "python3"
  },
  "language_info": {
   "codemirror_mode": {
    "name": "ipython",
    "version": 3
   },
   "file_extension": ".py",
   "mimetype": "text/x-python",
   "name": "python",
   "nbconvert_exporter": "python",
   "pygments_lexer": "ipython3",
   "version": "3.7.5"
  }
 },
 "nbformat": 4,
 "nbformat_minor": 5
}
